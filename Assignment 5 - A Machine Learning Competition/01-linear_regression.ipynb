{
 "cells": [
  {
   "cell_type": "code",
   "execution_count": 1,
   "id": "96641288",
   "metadata": {},
   "outputs": [],
   "source": [
    "import os \n",
    "import pickle\n",
    "import numpy as np\n",
    "from os.path import join  \n",
    "\n",
    "from sklearn.linear_model import LinearRegression\n",
    "from sklearn.model_selection import train_test_split\n",
    "from sklearn.metrics import balanced_accuracy_score, make_scorer\n",
    "\n",
    "datasets = join(os.getcwd(), \"datasets\")\n",
    "preprocessed_datasets = join(datasets, \"preprocessed\")\n",
    "\n",
    "X_all, y_all, X_test = pickle.load(open(join(preprocessed_datasets, \"cleaned_df.pickle\"), 'rb'))"
   ]
  },
  {
   "cell_type": "markdown",
   "id": "2434f5b7",
   "metadata": {},
   "source": [
    "Split train and validation data\n",
    "---"
   ]
  },
  {
   "cell_type": "code",
   "execution_count": 2,
   "id": "a72a30dc",
   "metadata": {},
   "outputs": [],
   "source": [
    "X_train, X_val, y_train, y_val = train_test_split(X_all, y_all, shuffle=True, train_size=.75, random_state=42)"
   ]
  },
  {
   "cell_type": "markdown",
   "id": "4651d404",
   "metadata": {},
   "source": [
    "Fit the linear model with raw cleaned data\n",
    "---"
   ]
  },
  {
   "cell_type": "code",
   "execution_count": 3,
   "id": "3d6afc04",
   "metadata": {},
   "outputs": [
    {
     "data": {
      "text/plain": [
       "LinearRegression()"
      ]
     },
     "execution_count": 3,
     "metadata": {},
     "output_type": "execute_result"
    }
   ],
   "source": [
    "clf = LinearRegression()\n",
    "clf.fit(X_train, y_train)"
   ]
  },
  {
   "cell_type": "markdown",
   "id": "b799b69e",
   "metadata": {},
   "source": [
    "Get the bcr score on the validation data\n",
    "---"
   ]
  },
  {
   "cell_type": "code",
   "execution_count": 4,
   "id": "bac96fac",
   "metadata": {},
   "outputs": [
    {
     "data": {
      "text/plain": [
       "0.6785714285714286"
      ]
     },
     "execution_count": 4,
     "metadata": {},
     "output_type": "execute_result"
    }
   ],
   "source": [
    "y_val_predicted = clf.predict(X_val)\n",
    "\n",
    "balanced_accuracy_score(y_val.values, y_val_predicted.round())"
   ]
  }
 ],
 "metadata": {
  "kernelspec": {
   "display_name": "rapids",
   "language": "python",
   "name": "rapids"
  },
  "language_info": {
   "codemirror_mode": {
    "name": "ipython",
    "version": 3
   },
   "file_extension": ".py",
   "mimetype": "text/x-python",
   "name": "python",
   "nbconvert_exporter": "python",
   "pygments_lexer": "ipython3",
   "version": "3.8.8"
  }
 },
 "nbformat": 4,
 "nbformat_minor": 5
}
