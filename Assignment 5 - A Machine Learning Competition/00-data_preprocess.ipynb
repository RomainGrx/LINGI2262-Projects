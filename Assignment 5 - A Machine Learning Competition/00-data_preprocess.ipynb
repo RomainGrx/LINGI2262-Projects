{
 "cells": [
  {
   "cell_type": "code",
   "execution_count": 1,
   "id": "cbf11fb2",
   "metadata": {},
   "outputs": [],
   "source": [
    "import os \n",
    "import pickle\n",
    "import numpy as np\n",
    "from os.path import join  \n",
    "\n",
    "datasets = join(os.getcwd(), \"datasets\")\n",
    "raw_datasets = join(datasets, \"raw\")\n",
    "\n",
    "X_train, y_train, X_test = pickle.load(open(join(raw_datasets, \"all_merged_df.pickle\"), 'rb'))"
   ]
  },
  {
   "cell_type": "markdown",
   "id": "901df9ab",
   "metadata": {},
   "source": [
    "Describe all *DataFrame*\n",
    "---"
   ]
  },
  {
   "cell_type": "code",
   "execution_count": null,
   "id": "7c59b0e2",
   "metadata": {},
   "outputs": [],
   "source": [
    "print(\" X_train \".center(50, '='), end='\\n'*2)\n",
    "X_train.describe().compute()\n",
    "print(\" y_train \".center(50, '='), end='\\n'*2)\n",
    "y_test.describe()\n",
    "print(\" X_test \".center(50, '='), end='\\n'*2)\n",
    "X_test.describe()"
   ]
  },
  {
   "cell_type": "markdown",
   "id": "fbf0caaf",
   "metadata": {},
   "source": [
    "Remove all *v_* in the last columns\n",
    "---"
   ]
  },
  {
   "cell_type": "code",
   "execution_count": 2,
   "id": "84941604",
   "metadata": {},
   "outputs": [],
   "source": [
    "X_train.replace(to_replace='v_', value='', inplace=True, regex=True)\n",
    "X_test.replace(to_replace='v_', value='', inplace=True, regex=True)"
   ]
  },
  {
   "cell_type": "markdown",
   "id": "4e8078ed",
   "metadata": {},
   "source": [
    "Force all features values to *float32* and labels values to *uint8*\n",
    "---"
   ]
  },
  {
   "cell_type": "code",
   "execution_count": 5,
   "id": "fa7d52d5",
   "metadata": {},
   "outputs": [
    {
     "name": "stdout",
     "output_type": "stream",
     "text": [
      "[dtype('float32')]\n",
      "[dtype('uint8')]\n",
      "[dtype('float32')]\n"
     ]
    }
   ],
   "source": [
    "X_train = X_train.astype(np.float32)\n",
    "y_train = y_train.astype(np.uint8)\n",
    "X_test = X_test.astype(np.float32)\n",
    "\n",
    "print(np.unique(X_train.dtypes.values))\n",
    "print(np.unique(y_train.dtypes.values))\n",
    "print(np.unique(X_test.dtypes.values))"
   ]
  },
  {
   "cell_type": "markdown",
   "id": "10fce57b",
   "metadata": {},
   "source": [
    "Replace all *NaN* values by the median value of that particular column\n",
    "---"
   ]
  },
  {
   "cell_type": "code",
   "execution_count": 7,
   "id": "a5e7597c",
   "metadata": {},
   "outputs": [
    {
     "name": "stdout",
     "output_type": "stream",
     "text": [
      "> Before\n",
      "X_train any isna ?  True\n",
      "X_test any isna ?  True\n",
      "> After\n",
      "X_train any isna ?  False\n",
      "X_test any isna ?  False\n"
     ]
    }
   ],
   "source": [
    "print(\"> Before\")\n",
    "print(\"X_train any isna ? \", X_train.isna().values.any())\n",
    "print(\"X_test any isna ? \", X_test.isna().values.any())\n",
    "\n",
    "X_train.fillna(X_train.median(), inplace=True)\n",
    "X_test.fillna(X_test.median(), inplace=True)\n",
    "\n",
    "print(\"> After\")\n",
    "print(\"X_train any isna ? \", X_train.isna().values.any())\n",
    "print(\"X_test any isna ? \", X_test.isna().values.any())"
   ]
  },
  {
   "cell_type": "markdown",
   "id": "8ec96b4c",
   "metadata": {},
   "source": [
    "Dump all as first version of cleaned data \n",
    "---"
   ]
  },
  {
   "cell_type": "code",
   "execution_count": 8,
   "id": "f8ae1c7a",
   "metadata": {},
   "outputs": [],
   "source": [
    "!mkdir -p datasets/preprocessed\n",
    "\n",
    "pickle.dump((X_train, y_train, X_test), open(join(datasets, \"preprocessed\", \"cleaned_df.pickle\"), 'wb+'))"
   ]
  },
  {
   "cell_type": "code",
   "execution_count": null,
   "id": "dda3c548",
   "metadata": {},
   "outputs": [],
   "source": [
    "X_train_cudf "
   ]
  }
 ],
 "metadata": {
  "kernelspec": {
   "display_name": "deep2",
   "language": "python",
   "name": "deep"
  },
  "language_info": {
   "codemirror_mode": {
    "name": "ipython",
    "version": 3
   },
   "file_extension": ".py",
   "mimetype": "text/x-python",
   "name": "python",
   "nbconvert_exporter": "python",
   "pygments_lexer": "ipython3",
   "version": "3.8.8"
  }
 },
 "nbformat": 4,
 "nbformat_minor": 5
}
