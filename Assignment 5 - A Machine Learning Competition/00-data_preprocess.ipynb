{
 "cells": [
  {
   "cell_type": "code",
   "execution_count": 2,
   "id": "cbf11fb2",
   "metadata": {},
   "outputs": [],
   "source": [
    "import os \n",
    "import pickle\n",
    "import numpy as np\n",
    "from os.path import join  \n",
    "\n",
    "datasets = join(os.getcwd(), \"datasets\")\n",
    "raw_datasets = join(datasets, \"raw\")\n",
    "\n",
    "X_train, y_train, X_test = pickle.load(open(join(raw_datasets, \"all_merged_df.pickle\"), 'rb'))"
   ]
  },
  {
   "cell_type": "markdown",
   "id": "fbf0caaf",
   "metadata": {},
   "source": [
    "Remove all *v_* in the last columns\n",
    "---"
   ]
  },
  {
   "cell_type": "code",
   "execution_count": 3,
   "id": "84941604",
   "metadata": {},
   "outputs": [],
   "source": [
    "X_train.replace(to_replace='v_', value='', inplace=True, regex=True)\n",
    "X_test.replace(to_replace='v_', value='', inplace=True, regex=True)"
   ]
  },
  {
   "cell_type": "markdown",
   "id": "4e8078ed",
   "metadata": {},
   "source": [
    "Force all features and labels values to *float32*\n",
    "---"
   ]
  },
  {
   "cell_type": "code",
   "execution_count": 4,
   "id": "fa7d52d5",
   "metadata": {},
   "outputs": [
    {
     "name": "stdout",
     "output_type": "stream",
     "text": [
      "[dtype('float32')]\n",
      "[dtype('float32')]\n",
      "[dtype('float32')]\n"
     ]
    }
   ],
   "source": [
    "X_train = X_train.astype(np.float32)\n",
    "y_train = y_train.astype(np.float32)\n",
    "X_test = X_test.astype(np.float32)\n",
    "\n",
    "print(np.unique(X_train.dtypes.values))\n",
    "print(np.unique(y_train.dtypes.values))\n",
    "print(np.unique(X_test.dtypes.values))"
   ]
  },
  {
   "cell_type": "markdown",
   "id": "10fce57b",
   "metadata": {},
   "source": [
    "Replace all *NaN* values by the median value of that particular column\n",
    "---"
   ]
  },
  {
   "cell_type": "code",
   "execution_count": 5,
   "id": "a5e7597c",
   "metadata": {},
   "outputs": [
    {
     "name": "stdout",
     "output_type": "stream",
     "text": [
      "> Before\n",
      "X_train any isna ?  True\n",
      "X_test any isna ?  True\n",
      "> After\n",
      "X_train any isna ?  False\n",
      "X_test any isna ?  False\n"
     ]
    }
   ],
   "source": [
    "print(\"> Before\")\n",
    "print(\"X_train any isna ? \", X_train.isna().values.any())\n",
    "print(\"X_test any isna ? \", X_test.isna().values.any())\n",
    "\n",
    "X_train.fillna(X_train.median(), inplace=True)\n",
    "X_test.fillna(X_test.median(), inplace=True)\n",
    "\n",
    "print(\"> After\")\n",
    "print(\"X_train any isna ? \", X_train.isna().values.any())\n",
    "print(\"X_test any isna ? \", X_test.isna().values.any())"
   ]
  },
  {
   "cell_type": "markdown",
   "id": "8ec96b4c",
   "metadata": {},
   "source": [
    "Dump all as first version of cleaned data \n",
    "---"
   ]
  },
  {
   "cell_type": "code",
   "execution_count": 6,
   "id": "f8ae1c7a",
   "metadata": {},
   "outputs": [],
   "source": [
    "!mkdir -p datasets/preprocessed\n",
    "\n",
    "pickle.dump((X_train, y_train, X_test), open(join(datasets, \"preprocessed\", \"cleaned_df.pickle\"), 'wb+'))"
   ]
  },
  {
   "cell_type": "markdown",
   "id": "ed043b48",
   "metadata": {},
   "source": [
    "Dump as *ndarray*'s\n",
    "---"
   ]
  },
  {
   "cell_type": "code",
   "execution_count": 7,
   "id": "dda3c548",
   "metadata": {},
   "outputs": [],
   "source": [
    "X_train_nd, y_train_nd, X_test_nd = X_train.values, y_train.values, X_test.values\n",
    "pickle.dump((X_train_nd, y_train_nd, X_test_nd), open(join(datasets, \"preprocessed\", \"cleaned_nd.pickle\"), 'wb+'))"
   ]
  },
  {
   "cell_type": "markdown",
   "id": "0e9ba125",
   "metadata": {},
   "source": [
    "Transform the viewpoint index of the 6 images as categorical data (one-hot encoding)\n",
    "---"
   ]
  },
  {
   "cell_type": "code",
   "execution_count": 80,
   "id": "e43992aa",
   "metadata": {},
   "outputs": [],
   "source": [
    "from sklearn.preprocessing import OneHotEncoder\n",
    "\n",
    "n_viewpoints = 6\n",
    "train_viewpoints = X_train_nd[:,-n_viewpoints:] \n",
    "test_viewpoints = X_test_nd[:,-n_viewpoints:] \n",
    "\n",
    "ohe = OneHotEncoder(sparse=False)\n",
    "ohe.fit(np.r_[train_viewpoints, test_viewpoints].reshape(-1, 1)) # Need all viewpoints as a single column\n",
    "\n",
    "m_train, m_test, n = len(train_viewpoints), len(test_viewpoints), len(ohe.categories_[0])\n",
    "train_viewpoints_ohe = np.zeros((m_train, n*n_viewpoints), dtype=train_viewpoints.dtype)\n",
    "test_viewpoints_ohe = np.zeros((m_test, n*n_viewpoints), dtype=test_viewpoints.dtype)\n",
    "\n",
    "for vp in range(n_viewpoints):\n",
    "    train_viewpoints_ohe[:, vp*n:(vp+1)*n] = ohe.transform(train_viewpoints[:, vp, None])\n",
    "    test_viewpoints_ohe[:, vp*n:(vp+1)*n] = ohe.transform(test_viewpoints[:, vp, None])\n",
    "\n",
    "X_train_ohe = np.c_[X_train_nd[:, :-n_viewpoints], train_viewpoints_ohe]\n",
    "X_test_ohe = np.c_[X_test_nd[:, :-n_viewpoints], test_viewpoints_ohe]"
   ]
  },
  {
   "cell_type": "markdown",
   "id": "9336964d",
   "metadata": {},
   "source": [
    "Dump the *onehot encoded* array\n",
    "---"
   ]
  },
  {
   "cell_type": "code",
   "execution_count": 86,
   "id": "42cc4466",
   "metadata": {},
   "outputs": [],
   "source": [
    "pickle.dump((X_train_ohe, y_train_nd, X_test_ohe), open(join(datasets, \"preprocessed\", \"cleaned_ohe.pickle\"), 'wb+'))"
   ]
  }
 ],
 "metadata": {
  "kernelspec": {
   "display_name": "deep2",
   "language": "python",
   "name": "deep"
  },
  "language_info": {
   "codemirror_mode": {
    "name": "ipython",
    "version": 3
   },
   "file_extension": ".py",
   "mimetype": "text/x-python",
   "name": "python",
   "nbconvert_exporter": "python",
   "pygments_lexer": "ipython3",
   "version": "3.8.8"
  }
 },
 "nbformat": 4,
 "nbformat_minor": 5
}
